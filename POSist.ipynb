{
 "cells": [
  {
   "cell_type": "code",
   "execution_count": 30,
   "metadata": {},
   "outputs": [],
   "source": [
    "#creating the datatype\n",
    "#value , valueleft is made for storing the values to be checked for parent>sum(child)\n",
    "class Node:\n",
    "  def __init__(self, timestamp, data,nodeNumber,nodeId,referenceNodeId,childReferenceNodeId,genesisReferenceNodeId,HashValue,value,valueLeft):\n",
    "    self.timestamp=timestamp\n",
    "    self.data=data\n",
    "    self.nodeNumber=nodeNumber\n",
    "    self.nodeId=nodeId\n",
    "    self.referenceNodeId=referenceNodeId\n",
    "    self.childReferenceNodeId=childReferenceNodeId\n",
    "    self.genesisReferenceNodeId=genesisReferenceNodeId\n",
    "    self.HashValue=HashValue\n",
    "    self.value=value\n",
    "    self.valueLeft=valueLeft\n",
    "    print ('timestamp='+timestamp,' data = '+data+' nodeNumber='+str(nodeNumber)+' nodeId='+nodeId+' referenceNodeId='+ referenceNodeId+'genesisReferenceNodeId='+genesisReferenceNodeId+' hash'+HashValue)\n",
    "\n",
    "n=0"
   ]
  },
  {
   "cell_type": "code",
   "execution_count": 35,
   "metadata": {},
   "outputs": [],
   "source": [
    "import time\n",
    "import datetime \n",
    "#create new node function\n",
    "def create(parent='0',value=0):\n",
    "    ts = time.time()\n",
    "    st = datetime.datetime.fromtimestamp(ts).strftime('%Y-%m-%d %H:%M:%S')\n",
    "    print(type(st))\n",
    "    \n",
    "    print('input data')\n",
    "    data=input()\n",
    "    \n",
    "    #unique nodeId \n",
    "    global n\n",
    "    nodeId=str(n)+'company'\n",
    "    \n",
    "    \n",
    "    \n",
    "    print('enter number of childern')\n",
    "    nchi=int(input())\n",
    "    child=[]\n",
    "    for i in range(nchi):\n",
    "        print('enter child id')\n",
    "        child.append(input())\n",
    "        \n",
    "    print('enter genesis node id')\n",
    "    gn=input()\n",
    "    \n",
    "    print('enter your secret passcode hash value')\n",
    "    has=input()\n",
    "    \n",
    "    print('enter value')\n",
    "    global nodes[]\n",
    "    nodes.append(value)\n",
    "    value=int(input())\n",
    "    \n",
    "    # making sure node value comes from root / child sum is less then parent\n",
    "    if parent != '0':\n",
    "        if nodes[int(parent[0])]<value:\n",
    "            print('value too large')\n",
    "        else:\n",
    "            nodes[int(parent[0])]-=value\n",
    "       # if self.value>\n",
    "    \n",
    "    \n",
    "    #encrypting data with hash\n",
    "    newdata=''\n",
    "    for i in data:\n",
    "        newdata=newdata+i+has\n",
    "    \n",
    "    \n",
    "    n1=Node(st,newdata,n,nodeId,parent,child,gn,has,value,value)\n",
    "    return n1"
   ]
  },
  {
   "cell_type": "code",
   "execution_count": 36,
   "metadata": {},
   "outputs": [],
   "source": [
    "#it stores values of each node indexed on their id\n",
    "nodes=[]"
   ]
  },
  {
   "cell_type": "code",
   "execution_count": 37,
   "metadata": {},
   "outputs": [
    {
     "name": "stdout",
     "output_type": "stream",
     "text": [
      "input 1 for creating Genesis node\n",
      "input 2 for creating a set ofchild node of a perti\n",
      "1\n",
      "<class 'str'>\n",
      "input data\n",
      "wer\n",
      "enter number of childern\n",
      "1\n",
      "enter child id\n",
      "sfds\n",
      "enter genesis node id\n",
      "sdfs\n",
      "enter your secret passcode hash value\n",
      "weger\n",
      "enter value\n",
      "2345\n",
      "timestamp=2018-09-01 18:42:00  data = wwegerewegerrweger nodeNumber=2 nodeId=2company referenceNodeId=0genesisReferenceNodeId=sdfs hashweger\n"
     ]
    }
   ],
   "source": [
    "\n",
    "\n",
    "print('input 1 for creating Genesis node')\n",
    "print('input 2 for creating a set ofchild node of a perti')\n",
    "global n\n",
    "\n",
    "t=int(input())\n",
    "if t==1:\n",
    "    n+=1\n",
    "    k=create()\n",
    "if t==2:\n",
    "    n+=1\n",
    "    print('enter parent node')\n",
    "    par=input()\n",
    "    create(par)\n",
    "    \n"
   ]
  },
  {
   "cell_type": "code",
   "execution_count": 39,
   "metadata": {},
   "outputs": [
    {
     "name": "stdout",
     "output_type": "stream",
     "text": [
      "['2company']\n"
     ]
    }
   ],
   "source": []
  },
  {
   "cell_type": "code",
   "execution_count": null,
   "metadata": {},
   "outputs": [],
   "source": []
  }
 ],
 "metadata": {
  "kernelspec": {
   "display_name": "Python 3",
   "language": "python",
   "name": "python3"
  },
  "language_info": {
   "codemirror_mode": {
    "name": "ipython",
    "version": 3
   },
   "file_extension": ".py",
   "mimetype": "text/x-python",
   "name": "python",
   "nbconvert_exporter": "python",
   "pygments_lexer": "ipython3",
   "version": "3.6.5"
  }
 },
 "nbformat": 4,
 "nbformat_minor": 2
}
